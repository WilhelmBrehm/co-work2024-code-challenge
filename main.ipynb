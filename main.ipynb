{
 "cells": [
  {
   "cell_type": "code",
   "execution_count": 1,
   "metadata": {},
   "outputs": [
    {
     "name": "stdout",
     "output_type": "stream",
     "text": [
      "['Courier', 'Delivery', '__builtins__', '__cached__', '__doc__', '__file__', '__loader__', '__name__', '__package__', '__spec__', 'csv', 'load_couriers_from_csv', 'load_deliveries_from_csv', 'load_travel_time_from_csv', 'os', 'process_all_instances', 'process_instance_folder', 'read_all_instances_from_folder']\n",
      "Processing instance: 1c4f92e6-d84c-44ec-92d9-44485f5deec9\n",
      "Processing instance: 79d64424-1935-4829-b452-d6c926b1ef70\n",
      "Processing instance: 0b220d8f-ba16-4848-86ef-b446ef436fce\n",
      "Processing instance: 1ad01be7-2897-4c4f-83f0-cfa7953cc8b8\n",
      "Best solution found: 22068 with time 5.140884876251221 seconds\n"
     ]
    }
   ],
   "source": [
    "from vrppd_parameters import Parameters\n",
    "from vrppd_solution import Solution\n",
    "from vrppd_solver import optimize\n",
    "from random_greedy_courier_heuristic import random_greedy_courier_heuristic\n",
    "import numba\n",
    "from numba.experimental import jitclass\n",
    "import time\n",
    "import numpy as np\n",
    "import is_feasible\n",
    "import read_data\n",
    "import matplotlib.pyplot as plt\n",
    "\n",
    "print(dir(read_data))\n",
    "all_instances = read_data.read_all_instances_from_folder('Challenge/training_data_small')\n",
    "test_parameters = Parameters(all_instances[3])\n",
    "\n",
    "solver_settings = {\n",
    "    'time_limit': 5\n",
    "}\n",
    "\n",
    "time_start = time.time()\n",
    "best_solution = optimize(test_parameters, solver_settings=solver_settings)\n",
    "time_end = time.time()\n",
    "\n",
    "print(f'Best solution found: {best_solution.total_delivery_time} with time {time_end - time_start} seconds')"
   ]
  }
 ],
 "metadata": {
  "kernelspec": {
   "display_name": "Python 3",
   "language": "python",
   "name": "python3"
  },
  "language_info": {
   "codemirror_mode": {
    "name": "ipython",
    "version": 3
   },
   "file_extension": ".py",
   "mimetype": "text/x-python",
   "name": "python",
   "nbconvert_exporter": "python",
   "pygments_lexer": "ipython3",
   "version": "3.9.19"
  }
 },
 "nbformat": 4,
 "nbformat_minor": 2
}
